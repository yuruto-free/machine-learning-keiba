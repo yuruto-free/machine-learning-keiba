{
 "cells": [
  {
   "cell_type": "code",
   "execution_count": null,
   "id": "697cd188-673f-4bd6-90ee-6b73defdf003",
   "metadata": {},
   "outputs": [],
   "source": [
    "%load_ext autoreload\n",
    "%autoreload 2\n",
    "\n",
    "import pandas as pd\n",
    "from dataclasses import dataclass\n",
    "from modules import LocalPaths, Collection\n",
    "# 行と列の最大表示数を指定\n",
    "pd.set_option('display.max_columns', 100)\n",
    "pd.set_option('display.max_rows', 30)"
   ]
  },
  {
   "cell_type": "markdown",
   "id": "63967ecd-6561-4813-a731-acad90806996",
   "metadata": {},
   "source": [
    "## スクレイピング"
   ]
  },
  {
   "cell_type": "code",
   "execution_count": null,
   "id": "d8fb27ca-add4-4626-a6aa-9a76ef39f1c6",
   "metadata": {},
   "outputs": [],
   "source": [
    "# 実行用パラメータ\n",
    "@dataclass(frozen=True)\n",
    "class _RaceParams:\n",
    "    EXECUTION = True\n",
    "    FROM = '2022-01'\n",
    "    TO = '2023-01'    \n",
    "    \n",
    "@dataclass(frozen=True)\n",
    "class ExecParams:\n",
    "    # レース開催日に関する処理\n",
    "    RACE_INFO = _RaceParams()\n",
    "    # 馬情報に関する処理\n",
    "    HORSE_EXECUTION = True\n",
    "    # 血統情報に関する処理\n",
    "    PED_EXECUTION = True"
   ]
  },
  {
   "cell_type": "code",
   "execution_count": null,
   "id": "4fa47305-3a92-4dda-916e-9e297ebf23ce",
   "metadata": {},
   "outputs": [],
   "source": [
    "# インスタンス生成\n",
    "collection = Collection()"
   ]
  },
  {
   "cell_type": "code",
   "execution_count": null,
   "id": "0a16dae3-74ee-48ae-a05a-f3962d750d60",
   "metadata": {},
   "outputs": [],
   "source": [
    "if ExecParams.RACE_INFO.EXECUTION:\n",
    "    # レース開催日の取得\n",
    "    event_dates = collection.get_event_date(from_=ExecParams.RACE_INFO.FROM, to_=ExecParams.RACE_INFO.TO)\n",
    "    # レースIDの取得\n",
    "    race_ids = collection.get_race_ids(event_dates)\n",
    "    # htmlのスクレイピング\n",
    "    html_filepaths = collection.scrape_html_race(race_ids)\n",
    "    \n",
    "    if html_filepaths:\n",
    "        # レース結果テーブルの取得\n",
    "        race_results = collection.get_rawdata_results(html_filepaths)\n",
    "        # レース情報テーブルの取得\n",
    "        all_race_info = collection.get_rawdata_raceinfo(html_filepaths)\n",
    "        # 払い戻し結果テーブルの取得\n",
    "        paybacks = collection.get_rawdata_payback(html_filepaths)\n",
    "        # テーブルの更新\n",
    "        collection.update_rawdata(LocalPaths.RAW_RESULTS_PATH, race_results)\n",
    "        collection.update_rawdata(LocalPaths.RAW_RACEINFO_PATH, all_race_info)\n",
    "        collection.update_rawdata(LocalPaths.RAW_PAYBACK_PATH, paybacks)"
   ]
  },
  {
   "cell_type": "code",
   "execution_count": null,
   "id": "32fd7510-dea6-4531-a8bb-8bb566153a47",
   "metadata": {},
   "outputs": [],
   "source": [
    "if ExecParams.HORSE_EXECUTION:\n",
    "    race_results = collection.load_rawdata(LocalPaths.RAW_RESULTS_PATH)\n",
    "    horse_ids = race_results['horse_id'].unique()\n",
    "    html_file_horses = collection.scrape_html_horse_with_master(horse_ids)\n",
    "    \n",
    "    if html_file_horses:\n",
    "        # 馬の過去成績テーブルの取得\n",
    "        horse_results = collection.get_rawdata_horse(html_file_horses)\n",
    "        collection.update_rawdata(LocalPaths.RAW_HORSERESULTS_PATH, horse_results)"
   ]
  },
  {
   "cell_type": "code",
   "execution_count": null,
   "id": "80aef9d4-9261-4969-ad5a-73a4411cd445",
   "metadata": {
    "tags": []
   },
   "outputs": [],
   "source": [
    "if ExecParams.PED_EXECUTION:\n",
    "    race_results = collection.load_rawdata(LocalPaths.RAW_RESULTS_PATH)\n",
    "    horse_ids = race_results['horse_id'].unique()\n",
    "    html_file_peds = collection.scrape_html_ped(horse_ids)\n",
    "    \n",
    "    if html_file_peds:\n",
    "        # 血統情報の取得\n",
    "        ped_results = collection.get_rawdata_ped(html_file_peds)\n",
    "        collection.update_rawdata(LocalPaths.RAW_PEDS_PATH, ped_results)"
   ]
  }
 ],
 "metadata": {
  "kernelspec": {
   "display_name": "Python 3 (ipykernel)",
   "language": "python",
   "name": "python3"
  },
  "language_info": {
   "codemirror_mode": {
    "name": "ipython",
    "version": 3
   },
   "file_extension": ".py",
   "mimetype": "text/x-python",
   "name": "python",
   "nbconvert_exporter": "python",
   "pygments_lexer": "ipython3",
   "version": "3.9.7"
  }
 },
 "nbformat": 4,
 "nbformat_minor": 5
}
